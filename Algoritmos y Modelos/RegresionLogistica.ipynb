{
 "cells": [
  {
   "cell_type": "markdown",
   "id": "64f5f0aa",
   "metadata": {},
   "source": [
    "# Modelo de Regresión Logística\n",
    "\n",
    "Este notebook implementa un modelo de regresión logística para predecir la causa de defunción. Se enfoca en las 3 causas más frecuentes del conjunto de datos `defunciones_simplified.csv`."
   ]
  },
  {
   "cell_type": "code",
   "execution_count": 2,
   "id": "7d747ce8",
   "metadata": {},
   "outputs": [
    {
     "name": "stdout",
     "output_type": "stream",
     "text": [
      "                                                                precision    recall  f1-score   support\n",
      "\n",
      "Diabetes mellitus no especificada, sin mención de complicación       0.42      0.32      0.37      9352\n",
      "          Infarto agudo del miocardio, sin otra especificación       0.50      0.83      0.63     17193\n",
      "                                     Neumonía, no especificada       0.98      0.27      0.42     12507\n",
      "\n",
      "                                                      accuracy                           0.53     39052\n",
      "                                                     macro avg       0.64      0.47      0.47     39052\n",
      "                                                  weighted avg       0.64      0.53      0.50     39052\n",
      "\n"
     ]
    }
   ],
   "source": [
    "import pandas as pd\n",
    "from sklearn.model_selection import train_test_split\n",
    "from sklearn.linear_model import LogisticRegression\n",
    "from sklearn.metrics import classification_report\n",
    "from sklearn.preprocessing import OneHotEncoder\n",
    "from sklearn.pipeline import Pipeline\n",
    "from sklearn.compose import ColumnTransformer\n",
    "\n",
    "# Cargar los datos procesados\n",
    "df = pd.read_csv(\"../defunciones_simplified.csv\")\n",
    "\n",
    "# Seleccionar las 3 causas más comunes\n",
    "top_3_causas = df['causa'].value_counts().nlargest(3).index\n",
    "df = df[df['causa'].isin(top_3_causas)]\n",
    "\n",
    "# Separar variables predictoras y variable objetivo\n",
    "X = df.drop(columns=[\"causa\"])\n",
    "y = df[\"causa\"]\n",
    "\n",
    "# Detectar columnas categóricas\n",
    "cat_features = X.select_dtypes(include='object').columns.tolist()\n",
    "\n",
    "# Dividir datos en entrenamiento y prueba\n",
    "X_train, X_test, y_train, y_test = train_test_split(X, y, test_size=0.3, random_state=42)\n",
    "\n",
    "# Crear pipeline de preprocesamiento + modelo\n",
    "preprocessor = ColumnTransformer([\n",
    "    ('cat', OneHotEncoder(handle_unknown='ignore'), cat_features)\n",
    "])\n",
    "\n",
    "pipeline = Pipeline([\n",
    "    ('preprocess', preprocessor),\n",
    "    ('classifier', LogisticRegression(max_iter=1000))\n",
    "])\n",
    "\n",
    "# Entrenar modelo\n",
    "pipeline.fit(X_train, y_train)\n",
    "\n",
    "# Hacer predicciones y evaluar\n",
    "y_pred = pipeline.predict(X_test)\n",
    "print(classification_report(y_test, y_pred))"
   ]
  }
 ],
 "metadata": {
  "kernelspec": {
   "display_name": "venv",
   "language": "python",
   "name": "python3"
  },
  "language_info": {
   "codemirror_mode": {
    "name": "ipython",
    "version": 3
   },
   "file_extension": ".py",
   "mimetype": "text/x-python",
   "name": "python",
   "nbconvert_exporter": "python",
   "pygments_lexer": "ipython3",
   "version": "3.12.5"
  }
 },
 "nbformat": 4,
 "nbformat_minor": 5
}
