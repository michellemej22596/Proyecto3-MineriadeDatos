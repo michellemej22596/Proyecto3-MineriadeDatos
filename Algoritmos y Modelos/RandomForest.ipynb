{
 "cells": [
  {
   "cell_type": "code",
   "execution_count": 2,
   "id": "39acd7fa",
   "metadata": {},
   "outputs": [
    {
     "name": "stderr",
     "output_type": "stream",
     "text": [
      "C:\\Users\\usuario\\AppData\\Local\\Temp\\ipykernel_16620\\1483292561.py:10: DtypeWarning: Columns (8) have mixed types. Specify dtype option on import or set low_memory=False.\n",
      "  defunciones_clean = pd.read_csv('../defunciones_clean.csv')\n"
     ]
    },
    {
     "name": "stdout",
     "output_type": "stream",
     "text": [
      "Resultado 70/30:\n",
      "              precision    recall  f1-score   support\n",
      "\n",
      "           0       1.00      1.00      1.00         1\n",
      "\n",
      "    accuracy                           1.00         1\n",
      "   macro avg       1.00      1.00      1.00         1\n",
      "weighted avg       1.00      1.00      1.00         1\n",
      "\n",
      "\n",
      "Resultado 80/20:\n",
      "              precision    recall  f1-score   support\n",
      "\n",
      "           0       1.00      1.00      1.00         1\n",
      "\n",
      "    accuracy                           1.00         1\n",
      "   macro avg       1.00      1.00      1.00         1\n",
      "weighted avg       1.00      1.00      1.00         1\n",
      "\n",
      "\n",
      "Resultado 85/15:\n",
      "              precision    recall  f1-score   support\n",
      "\n",
      "           0       1.00      1.00      1.00         1\n",
      "\n",
      "    accuracy                           1.00         1\n",
      "   macro avg       1.00      1.00      1.00         1\n",
      "weighted avg       1.00      1.00      1.00         1\n",
      "\n"
     ]
    }
   ],
   "source": [
    "# Clasificación de enfermedad con Random Forest\n",
    "\n",
    "import pandas as pd\n",
    "from sklearn.model_selection import train_test_split\n",
    "from sklearn.ensemble import RandomForestClassifier\n",
    "from sklearn.metrics import classification_report\n",
    "from sklearn.preprocessing import LabelEncoder\n",
    "\n",
    "# Cargar los archivos\n",
    "defunciones_clean = pd.read_csv('../defunciones_clean.csv')\n",
    "cie = pd.read_csv('../CIE.csv')\n",
    "\n",
    "# Filtrar los códigos de las enfermedades deseadas\n",
    "enfermedades_buscadas = ['Infarto del miocardio', 'Neumonía no especificada', 'Fallecida, sin mención de complicación']\n",
    "cie_filtrado = cie[cie['descripcion'].str.contains('|'.join(enfermedades_buscadas), case=False, na=False)]\n",
    "codigos_enfermedades = cie_filtrado['codigo'].tolist()\n",
    "\n",
    "# Filtrar dataset de defunciones\n",
    "defunciones_clean_filtrado = defunciones_clean[defunciones_clean['causa'].isin(codigos_enfermedades)]\n",
    "\n",
    "# Limpiar datos\n",
    "columns_required = ['edad', 'sexo', 'año_registrado', 'causa']\n",
    "defunciones_clean_filtrado = defunciones_clean_filtrado.dropna(subset=columns_required)\n",
    "\n",
    "# Codificar variables categóricas\n",
    "label_encoder = LabelEncoder()\n",
    "defunciones_clean_filtrado['sexo'] = label_encoder.fit_transform(defunciones_clean_filtrado['sexo'])\n",
    "defunciones_clean_filtrado['causa'] = label_encoder.fit_transform(defunciones_clean_filtrado['causa'])\n",
    "\n",
    "# Variables predictoras y objetivo\n",
    "X = defunciones_clean_filtrado[['sexo', 'edad', 'año_registrado']]\n",
    "y = defunciones_clean_filtrado['causa']\n",
    "\n",
    "# Particiones 70/30, 80/20 y 85/15\n",
    "X_train_70, X_test_70, y_train_70, y_test_70 = train_test_split(X, y, test_size=0.30, random_state=42)\n",
    "X_train_80, X_test_80, y_train_80, y_test_80 = train_test_split(X, y, test_size=0.20, random_state=42)\n",
    "X_train_85, X_test_85, y_train_85, y_test_85 = train_test_split(X, y, test_size=0.15, random_state=42)\n",
    "\n",
    "# Inicializar clasificador Random Forest\n",
    "rf_model = RandomForestClassifier(n_estimators=100, random_state=42)\n",
    "\n",
    "# Evaluación del modelo\n",
    "def evaluar_modelo(X_train, X_test, y_train, y_test):\n",
    "    rf_model.fit(X_train, y_train)\n",
    "    y_pred = rf_model.predict(X_test)\n",
    "    return classification_report(y_test, y_pred)\n",
    "\n",
    "# Ejecutar evaluaciones\n",
    "resultado_70_30 = evaluar_modelo(X_train_70, X_test_70, y_train_70, y_test_70)\n",
    "resultado_80_20 = evaluar_modelo(X_train_80, X_test_80, y_train_80, y_test_80)\n",
    "resultado_85_15 = evaluar_modelo(X_train_85, X_test_85, y_train_85, y_test_85)\n",
    "\n",
    "# Imprimir resultados\n",
    "print(\"Resultado 70/30:\")\n",
    "print(resultado_70_30)\n",
    "print(\"\\nResultado 80/20:\")\n",
    "print(resultado_80_20)\n",
    "print(\"\\nResultado 85/15:\")\n",
    "print(resultado_85_15)\n"
   ]
  }
 ],
 "metadata": {
  "kernelspec": {
   "display_name": "Python 3",
   "language": "python",
   "name": "python3"
  },
  "language_info": {
   "codemirror_mode": {
    "name": "ipython",
    "version": 3
   },
   "file_extension": ".py",
   "mimetype": "text/x-python",
   "name": "python",
   "nbconvert_exporter": "python",
   "pygments_lexer": "ipython3",
   "version": "3.11.9"
  }
 },
 "nbformat": 4,
 "nbformat_minor": 5
}
